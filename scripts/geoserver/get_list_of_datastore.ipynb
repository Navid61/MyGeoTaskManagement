{
 "cells": [
  {
   "cell_type": "code",
   "execution_count": 2,
   "metadata": {},
   "outputs": [
    {
     "name": "stdout",
     "output_type": "stream",
     "text": [
      "Datastores in workspace 'test':\n",
      "- test_db\n"
     ]
    }
   ],
   "source": [
    "import requests\n",
    "from requests.auth import HTTPBasicAuth\n",
    "import os\n",
    "from dotenv import load_dotenv\n",
    "\n",
    "# Load environment variables from .env file\n",
    "load_dotenv(dotenv_path=\"../../.env\")\n",
    "\n",
    "# Get credentials from environment variables\n",
    "username = os.getenv(\"GEOSERVER_USERNAME\")\n",
    "password = os.getenv(\"GEOSERVER_PASSWORD\")\n",
    "port=8888\n",
    "\n",
    "# Function to get list of datastores in a workspace\n",
    "def get_datastores(workspace_name,port):\n",
    "    \n",
    "    url = f\"http://localhost:{port}/geoserver/rest/workspaces/{workspace_name}/datastores\"\n",
    "    headers = {\"accept\": \"application/json\", \"content-type\": \"application/json\"}\n",
    "    \n",
    "    response = requests.get(url, headers=headers, auth=HTTPBasicAuth(username, password))\n",
    "    \n",
    "    if response.status_code == 200:\n",
    "        datastores = response.json()\n",
    "        return datastores\n",
    "    else:\n",
    "        print(f\"Failed to retrieve datastores: {response.status_code} - {response.text}\")\n",
    "        return None\n",
    "\n",
    "# Example usage\n",
    "workspace_name = \"test\"\n",
    "datastores = get_datastores(workspace_name, port)\n",
    "\n",
    "if datastores:\n",
    "    print(f\"Datastores in workspace '{workspace_name}':\")\n",
    "    for datastore in datastores['dataStores']['dataStore']:\n",
    "        print(f\"- {datastore['name']}\")\n"
   ]
  }
 ],
 "metadata": {
  "kernelspec": {
   "display_name": ".venv",
   "language": "python",
   "name": "python3"
  },
  "language_info": {
   "codemirror_mode": {
    "name": "ipython",
    "version": 3
   },
   "file_extension": ".py",
   "mimetype": "text/x-python",
   "name": "python",
   "nbconvert_exporter": "python",
   "pygments_lexer": "ipython3",
   "version": "3.11.2"
  }
 },
 "nbformat": 4,
 "nbformat_minor": 2
}
