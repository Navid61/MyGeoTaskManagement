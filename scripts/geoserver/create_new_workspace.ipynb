{
 "cells": [
  {
   "cell_type": "code",
   "execution_count": 2,
   "metadata": {},
   "outputs": [
    {
     "name": "stdout",
     "output_type": "stream",
     "text": [
      "Workspace 'kerman' created successfully.\n",
      "Workspace 'rasht' created successfully.\n",
      "Workspace 'yazd' created successfully.\n"
     ]
    }
   ],
   "source": [
    "import requests\n",
    "from requests.auth import HTTPBasicAuth\n",
    "import os\n",
    "from dotenv import load_dotenv\n",
    "\n",
    "# Load environment variables from .env file\n",
    "load_dotenv(dotenv_path=\"../../.env\")\n",
    "\n",
    "# Get credentials from environment variables\n",
    "username = os.getenv(\"GEOSERVER_USERNAME\")\n",
    "password = os.getenv(\"GEOSERVER_PASSWORD\")\n",
    "\n",
    "# List of workspace names to be created\n",
    "workspace_names = [\"kerman\", \"rasht\", \"yazd\"]\n",
    "\n",
    "# GeoServer URL\n",
    "port = 8888\n",
    "url = f\"http://localhost:{port}/geoserver/rest/workspaces\"\n",
    "headers = {\"accept\": \"application/json\", \"content-type\": \"application/json\"}\n",
    "\n",
    "# Function to create a workspace\n",
    "def create_workspace(workspace_name):\n",
    "    data = {\"workspace\": {\"name\": workspace_name}}\n",
    "    response = requests.post(url, headers=headers, auth=HTTPBasicAuth(username, password), json=data)\n",
    "    if response.status_code == 201:\n",
    "        print(f\"Workspace '{workspace_name}' created successfully.\")\n",
    "    else:\n",
    "        print(f\"Failed to create workspace '{workspace_name}': {response.status_code} - {response.text}\")\n",
    "\n",
    "# Create workspaces\n",
    "for name in workspace_names:\n",
    "    create_workspace(name)\n"
   ]
  }
 ],
 "metadata": {
  "kernelspec": {
   "display_name": ".venv",
   "language": "python",
   "name": "python3"
  },
  "language_info": {
   "codemirror_mode": {
    "name": "ipython",
    "version": 3
   },
   "file_extension": ".py",
   "mimetype": "text/x-python",
   "name": "python",
   "nbconvert_exporter": "python",
   "pygments_lexer": "ipython3",
   "version": "3.11.2"
  }
 },
 "nbformat": 4,
 "nbformat_minor": 2
}
