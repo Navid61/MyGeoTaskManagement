{
 "cells": [
  {
   "cell_type": "code",
   "execution_count": 1,
   "metadata": {},
   "outputs": [
    {
     "name": "stdout",
     "output_type": "stream",
     "text": [
      "Workspace 'kerman' deleted successfully.\n",
      "Workspace 'rasht' deleted successfully.\n",
      "Workspace 'yazd' deleted successfully.\n"
     ]
    }
   ],
   "source": [
    "import requests\n",
    "from requests.auth import HTTPBasicAuth\n",
    "import os\n",
    "from dotenv import load_dotenv\n",
    "\n",
    "# Load environment variables from .env file\n",
    "load_dotenv(dotenv_path=\"../../.env\")\n",
    "\n",
    "# Get credentials from environment variables\n",
    "username = os.getenv(\"GEOSERVER_USERNAME\")\n",
    "password = os.getenv(\"GEOSERVER_PASSWORD\")\n",
    "\n",
    "# List of workspace names to be deleted\n",
    "workspace_names = [\"kerman\", \"rasht\", \"yazd\"]\n",
    "\n",
    "# GeoServer URL\n",
    "port = 8888\n",
    "base_url = f\"http://localhost:{port}/geoserver/rest/workspaces\"\n",
    "headers = {\"accept\": \"application/json\", \"content-type\": \"application/json\"}\n",
    "\n",
    "# Function to delete a workspace\n",
    "def delete_workspace(workspace_name):\n",
    "    delete_url = f\"{base_url}/{workspace_name}?recurse=true\"\n",
    "    response = requests.delete(delete_url, headers=headers, auth=HTTPBasicAuth(username, password))\n",
    "    if response.status_code == 200:\n",
    "        print(f\"Workspace '{workspace_name}' deleted successfully.\")\n",
    "    else:\n",
    "        print(f\"Failed to delete workspace '{workspace_name}': {response.status_code} - {response.text}\")\n",
    "\n",
    "# Delete workspaces\n",
    "for name in workspace_names:\n",
    "    delete_workspace(name)\n"
   ]
  }
 ],
 "metadata": {
  "kernelspec": {
   "display_name": ".venv",
   "language": "python",
   "name": "python3"
  },
  "language_info": {
   "codemirror_mode": {
    "name": "ipython",
    "version": 3
   },
   "file_extension": ".py",
   "mimetype": "text/x-python",
   "name": "python",
   "nbconvert_exporter": "python",
   "pygments_lexer": "ipython3",
   "version": "3.11.2"
  }
 },
 "nbformat": 4,
 "nbformat_minor": 2
}
